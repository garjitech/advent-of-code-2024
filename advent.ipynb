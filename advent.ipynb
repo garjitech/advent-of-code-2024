{
 "cells": [
  {
   "cell_type": "markdown",
   "metadata": {},
   "source": [
    "# 001 - Part 1"
   ]
  },
  {
   "cell_type": "code",
   "execution_count": 45,
   "metadata": {},
   "outputs": [
    {
     "name": "stdout",
     "output_type": "stream",
     "text": [
      "1222801\n"
     ]
    }
   ],
   "source": [
    "import pandas as pd\n",
    "import numpy as np\n",
    "\n",
    "df = pd.read_csv('001_input.txt', delimiter='\\t', header=None)\n",
    "\n",
    "list1 = sorted(df[0].tolist())\n",
    "list2 = sorted(df[1].tolist())\n",
    "\n",
    "df = pd.DataFrame({\n",
    "    'First': list1,\n",
    "    'Second': list2\n",
    "})\n",
    "\n",
    "sum_of_differences = np.sum(np.abs(df['First'].to_numpy() - df['Second'].to_numpy()))\n",
    "\n",
    "print(sum_of_differences)"
   ]
  },
  {
   "cell_type": "markdown",
   "metadata": {},
   "source": [
    "# 001 - Part 2"
   ]
  },
  {
   "cell_type": "code",
   "execution_count": 47,
   "metadata": {},
   "outputs": [
    {
     "name": "stdout",
     "output_type": "stream",
     "text": [
      "22545250\n"
     ]
    }
   ],
   "source": [
    "import pandas as pd\n",
    "import numpy as np\n",
    "\n",
    "df = pd.read_csv('001_input.txt', delimiter='\\t', header=None)\n",
    "\n",
    "list1 = sorted(df[0].tolist())\n",
    "list2 = sorted(df[1].tolist())\n",
    "\n",
    "df = pd.DataFrame({\n",
    "    'First': list1,\n",
    "    'Second': list2\n",
    "})\n",
    "\n",
    "second_counts = df['Second'].value_counts()\n",
    "\n",
    "df['count_in_second'] = df['First'].map(second_counts).fillna(0).astype(int)\n",
    "\n",
    "similarity_score = np.sum((df['First'].to_numpy() * df['count_in_second'].to_numpy()))\n",
    "\n",
    "print(similarity_score)"
   ]
  },
  {
   "cell_type": "markdown",
   "metadata": {},
   "source": [
    "# 002 - Part 1"
   ]
  },
  {
   "cell_type": "code",
   "execution_count": 4,
   "metadata": {},
   "outputs": [
    {
     "name": "stdout",
     "output_type": "stream",
     "text": [
      "        0     1     2     3     4     5     6     7\n",
      "498  22.0  21.0  19.0  16.0  14.0   NaN   NaN   NaN\n",
      "499   2.0   3.0   4.0   7.0  10.0  12.0  14.0   NaN\n",
      "500  76.0  79.0  80.0  83.0  85.0  87.0  88.0  89.0\n",
      "501  92.0  90.0  89.0  87.0  84.0  82.0   NaN   NaN\n",
      "502  40.0  43.0  44.0  46.0  47.0  50.0  53.0   NaN\n",
      "..    ...   ...   ...   ...   ...   ...   ...   ...\n",
      "995  75.0  73.0  72.0  70.0  67.0  66.0  65.0  64.0\n",
      "996  47.0  48.0  49.0  50.0  53.0  55.0   NaN   NaN\n",
      "997  88.0  91.0  92.0  94.0  97.0  98.0   NaN   NaN\n",
      "998  43.0  46.0  47.0  50.0  52.0  54.0  56.0  58.0\n",
      "999  44.0  45.0  48.0  51.0  52.0  54.0   NaN   NaN\n",
      "\n",
      "[502 rows x 8 columns]\n"
     ]
    }
   ],
   "source": [
    "import pandas as pd\n",
    "\n",
    "def is_safe_row(row):\n",
    "    row_cleaned = row.dropna(how='backward').reset_index(drop=True)\n",
    "    differences = row_cleaned.diff().dropna()\n",
    "    abs_differences = differences.abs() \n",
    "\n",
    "    if not (abs_differences.between(1, 3).all()):\n",
    "        return False\n",
    "\n",
    "    if differences.gt(0).all() or differences.lt(0).all():\n",
    "        return True\n",
    "\n",
    "    return False\n",
    "\n",
    "data = []\n",
    "with open('002_input.txt', 'r') as file:\n",
    "    for line in file:\n",
    "        split_line = line.strip().split()\n",
    "        data.append(split_line)\n",
    "\n",
    "df = pd.DataFrame(data).astype(float)\n",
    "safe_rows = df[df.apply(is_safe_row, axis=1)]\n",
    "\n",
    "print(safe_rows)"
   ]
  },
  {
   "cell_type": "markdown",
   "metadata": {},
   "source": [
    "# 002 - Part 2"
   ]
  },
  {
   "cell_type": "code",
   "execution_count": 5,
   "metadata": {},
   "outputs": [
    {
     "name": "stdout",
     "output_type": "stream",
     "text": [
      "        0     1     2     3     4     5     6     7\n",
      "0     6.0   8.0   9.0  10.0  12.0  13.0  12.0   NaN\n",
      "1    76.0  77.0  80.0  82.0  84.0  86.0  88.0  88.0\n",
      "2    84.0  86.0  88.0  90.0  93.0  97.0   NaN   NaN\n",
      "3    21.0  24.0  26.0  29.0  30.0  33.0  36.0  42.0\n",
      "9    10.0  13.0  13.0  15.0  16.0   NaN   NaN   NaN\n",
      "..    ...   ...   ...   ...   ...   ...   ...   ...\n",
      "995  75.0  73.0  72.0  70.0  67.0  66.0  65.0  64.0\n",
      "996  47.0  48.0  49.0  50.0  53.0  55.0   NaN   NaN\n",
      "997  88.0  91.0  92.0  94.0  97.0  98.0   NaN   NaN\n",
      "998  43.0  46.0  47.0  50.0  52.0  54.0  56.0  58.0\n",
      "999  44.0  45.0  48.0  51.0  52.0  54.0   NaN   NaN\n",
      "\n",
      "[544 rows x 8 columns]\n"
     ]
    }
   ],
   "source": [
    "import pandas as pd\n",
    "\n",
    "def is_safe_row(row):\n",
    "    cleaned_row = row.dropna(how='backward').reset_index(drop=True)\n",
    "    differences = cleaned_row.diff().dropna()\n",
    "    abs_differences = differences.abs() \n",
    "\n",
    "    if not (abs_differences.between(1, 3).all()):\n",
    "        return False\n",
    "\n",
    "    if differences.gt(0).all() or differences.lt(0).all():\n",
    "        return True\n",
    "\n",
    "    return False\n",
    "\n",
    "def is_safe_row_with_tolerance(row):\n",
    "    if is_safe_row(row):\n",
    "        return True  \n",
    "    \n",
    "    for idx in range(len(row)):\n",
    "        modified_row = row.drop(row.index[idx]).reset_index(drop=True)\n",
    "        \n",
    "        if is_safe_row(modified_row):\n",
    "            return True  \n",
    "    \n",
    "    return False\n",
    "\n",
    "\n",
    "data = []\n",
    "with open('002_input.txt', 'r') as file:\n",
    "    for line in file:\n",
    "        split_line = line.strip().split()\n",
    "        data.append(split_line)\n",
    "\n",
    "df = pd.DataFrame(data).astype(float)\n",
    "safe_rows = df[df.apply(is_safe_row_with_tolerance, axis=1)]\n",
    "\n",
    "print(safe_rows)\n"
   ]
  },
  {
   "cell_type": "markdown",
   "metadata": {},
   "source": [
    "# 003 - Part 1"
   ]
  },
  {
   "cell_type": "code",
   "execution_count": 1,
   "metadata": {},
   "outputs": [
    {
     "name": "stdout",
     "output_type": "stream",
     "text": [
      "173785482\n"
     ]
    }
   ],
   "source": [
    "import re\n",
    "\n",
    "file_path = '003_input.txt'\n",
    "\n",
    "pattern = r\"mul\\((\\d{1,3}),(\\d{1,3})\\)\"\n",
    "\n",
    "result = 0\n",
    "\n",
    "with open(file_path, 'r') as file:\n",
    "    \n",
    "    content = file.read()\n",
    "\n",
    "    matches = re.findall(pattern, content)\n",
    "\n",
    "    result = sum(int(d1) * int(d2) for d1, d2 in matches)\n",
    "\n",
    "print(result)"
   ]
  },
  {
   "cell_type": "markdown",
   "metadata": {},
   "source": [
    "# 003 - Part 2"
   ]
  },
  {
   "cell_type": "code",
   "execution_count": 8,
   "metadata": {},
   "outputs": [
    {
     "name": "stdout",
     "output_type": "stream",
     "text": [
      "83158140\n"
     ]
    }
   ],
   "source": [
    "import re\n",
    "\n",
    "file_path = '003_input.txt'\n",
    "\n",
    "pattern = r\"mul\\((\\d{1,3}),(\\d{1,3})\\)\"\n",
    "\n",
    "include_pattern = r\"do\\(\\)(.*?)don't\\(\\)\"\n",
    "\n",
    "result = 0\n",
    "\n",
    "with open(file_path, 'r') as file:\n",
    "    \n",
    "    content = file.read()\n",
    "\n",
    "    content = \"do()\" + content + \"don't()\"\n",
    "\n",
    "    include_contents = re.findall(include_pattern, content, re.DOTALL)\n",
    "\n",
    "    for item in include_contents:\n",
    "      \n",
    "      matches = re.findall(pattern, item)\n",
    "      \n",
    "      result += sum(int(d1) * int(d2) for d1, d2 in matches)\n",
    "\n",
    "print(result)"
   ]
  }
 ],
 "metadata": {
  "kernelspec": {
   "display_name": ".venv",
   "language": "python",
   "name": "python3"
  },
  "language_info": {
   "codemirror_mode": {
    "name": "ipython",
    "version": 3
   },
   "file_extension": ".py",
   "mimetype": "text/x-python",
   "name": "python",
   "nbconvert_exporter": "python",
   "pygments_lexer": "ipython3",
   "version": "3.10.15"
  }
 },
 "nbformat": 4,
 "nbformat_minor": 2
}
