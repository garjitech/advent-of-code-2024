{
 "cells": [
  {
   "cell_type": "markdown",
   "metadata": {},
   "source": [
    "# 001 - Part 1"
   ]
  },
  {
   "cell_type": "code",
   "execution_count": 45,
   "metadata": {},
   "outputs": [
    {
     "name": "stdout",
     "output_type": "stream",
     "text": [
      "1222801\n"
     ]
    }
   ],
   "source": [
    "import pandas as pd\n",
    "import numpy as np\n",
    "\n",
    "df = pd.read_csv('001_input.txt', delimiter='\\t', header=None)\n",
    "\n",
    "list1 = sorted(df[0].tolist())\n",
    "list2 = sorted(df[1].tolist())\n",
    "\n",
    "df = pd.DataFrame({\n",
    "    'First': list1,\n",
    "    'Second': list2\n",
    "})\n",
    "\n",
    "sum_of_differences = np.sum(np.abs(df['First'].to_numpy() - df['Second'].to_numpy()))\n",
    "\n",
    "print(sum_of_differences)"
   ]
  },
  {
   "cell_type": "markdown",
   "metadata": {},
   "source": [
    "# 001 - Part 2"
   ]
  },
  {
   "cell_type": "code",
   "execution_count": 47,
   "metadata": {},
   "outputs": [
    {
     "name": "stdout",
     "output_type": "stream",
     "text": [
      "22545250\n"
     ]
    }
   ],
   "source": [
    "import pandas as pd\n",
    "import numpy as np\n",
    "\n",
    "df = pd.read_csv('001_input.txt', delimiter='\\t', header=None)\n",
    "\n",
    "list1 = sorted(df[0].tolist())\n",
    "list2 = sorted(df[1].tolist())\n",
    "\n",
    "df = pd.DataFrame({\n",
    "    'First': list1,\n",
    "    'Second': list2\n",
    "})\n",
    "\n",
    "second_counts = df['Second'].value_counts()\n",
    "\n",
    "df['count_in_second'] = df['First'].map(second_counts).fillna(0).astype(int)\n",
    "\n",
    "similarity_score = np.sum((df['First'].to_numpy() * df['count_in_second'].to_numpy()))\n",
    "\n",
    "print(similarity_score)"
   ]
  },
  {
   "cell_type": "markdown",
   "metadata": {},
   "source": [
    "# 002 - Part 1"
   ]
  },
  {
   "cell_type": "code",
   "execution_count": 2,
   "metadata": {},
   "outputs": [
    {
     "name": "stdout",
     "output_type": "stream",
     "text": [
      "502\n"
     ]
    }
   ],
   "source": [
    "import pandas as pd\n",
    "\n",
    "def is_safe_row(row):\n",
    "    row_cleaned = row.dropna(how='backward').reset_index(drop=True)\n",
    "    differences = row_cleaned.diff().dropna()\n",
    "    abs_differences = differences.abs() \n",
    "\n",
    "    if not (abs_differences.between(1, 3).all()):\n",
    "        return False\n",
    "\n",
    "    if differences.gt(0).all() or differences.lt(0).all():\n",
    "        return True\n",
    "\n",
    "    return False\n",
    "\n",
    "data = []\n",
    "with open('002_input.txt', 'r') as file:\n",
    "    for line in file:\n",
    "        split_line = line.strip().split()\n",
    "        data.append(split_line)\n",
    "\n",
    "df = pd.DataFrame(data).astype(float)\n",
    "safe_rows = df[df.apply(is_safe_row, axis=1)]\n",
    "\n",
    "print(len(safe_rows))"
   ]
  },
  {
   "cell_type": "markdown",
   "metadata": {},
   "source": [
    "# 002 - Part 2"
   ]
  },
  {
   "cell_type": "code",
   "execution_count": 3,
   "metadata": {},
   "outputs": [
    {
     "name": "stdout",
     "output_type": "stream",
     "text": [
      "544\n"
     ]
    }
   ],
   "source": [
    "import pandas as pd\n",
    "\n",
    "def is_safe_row(row):\n",
    "    cleaned_row = row.dropna(how='backward').reset_index(drop=True)\n",
    "    differences = cleaned_row.diff().dropna()\n",
    "    abs_differences = differences.abs() \n",
    "\n",
    "    if not (abs_differences.between(1, 3).all()):\n",
    "        return False\n",
    "\n",
    "    if differences.gt(0).all() or differences.lt(0).all():\n",
    "        return True\n",
    "\n",
    "    return False\n",
    "\n",
    "def is_safe_row_with_tolerance(row):\n",
    "    if is_safe_row(row):\n",
    "        return True  \n",
    "    \n",
    "    for idx in range(len(row)):\n",
    "        modified_row = row.drop(row.index[idx]).reset_index(drop=True)\n",
    "        \n",
    "        if is_safe_row(modified_row):\n",
    "            return True  \n",
    "    \n",
    "    return False\n",
    "\n",
    "\n",
    "data = []\n",
    "with open('002_input.txt', 'r') as file:\n",
    "    for line in file:\n",
    "        split_line = line.strip().split()\n",
    "        data.append(split_line)\n",
    "\n",
    "df = pd.DataFrame(data).astype(float)\n",
    "safe_rows = df[df.apply(is_safe_row_with_tolerance, axis=1)]\n",
    "\n",
    "print(len(safe_rows))\n"
   ]
  },
  {
   "cell_type": "markdown",
   "metadata": {},
   "source": [
    "# 003 - Part 1"
   ]
  },
  {
   "cell_type": "code",
   "execution_count": 1,
   "metadata": {},
   "outputs": [
    {
     "name": "stdout",
     "output_type": "stream",
     "text": [
      "173785482\n"
     ]
    }
   ],
   "source": [
    "import re\n",
    "\n",
    "file_path = '003_input.txt'\n",
    "\n",
    "pattern = r\"mul\\((\\d{1,3}),(\\d{1,3})\\)\"\n",
    "\n",
    "result = 0\n",
    "\n",
    "with open(file_path, 'r') as file:\n",
    "    \n",
    "    content = file.read()\n",
    "\n",
    "    matches = re.findall(pattern, content)\n",
    "\n",
    "    result = sum(int(d1) * int(d2) for d1, d2 in matches)\n",
    "\n",
    "print(result)"
   ]
  },
  {
   "cell_type": "markdown",
   "metadata": {},
   "source": [
    "# 003 - Part 2"
   ]
  },
  {
   "cell_type": "code",
   "execution_count": 8,
   "metadata": {},
   "outputs": [
    {
     "name": "stdout",
     "output_type": "stream",
     "text": [
      "83158140\n"
     ]
    }
   ],
   "source": [
    "import re\n",
    "\n",
    "file_path = '003_input.txt'\n",
    "\n",
    "pattern = r\"mul\\((\\d{1,3}),(\\d{1,3})\\)\"\n",
    "\n",
    "include_pattern = r\"do\\(\\)(.*?)don't\\(\\)\"\n",
    "\n",
    "result = 0\n",
    "\n",
    "with open(file_path, 'r') as file:\n",
    "    \n",
    "    content = file.read()\n",
    "\n",
    "    content = \"do()\" + content + \"don't()\"\n",
    "\n",
    "    include_contents = re.findall(include_pattern, content, re.DOTALL)\n",
    "\n",
    "    for item in include_contents:\n",
    "      \n",
    "      matches = re.findall(pattern, item)\n",
    "      \n",
    "      result += sum(int(d1) * int(d2) for d1, d2 in matches)\n",
    "\n",
    "print(result)"
   ]
  }
 ],
 "metadata": {
  "kernelspec": {
   "display_name": ".venv",
   "language": "python",
   "name": "python3"
  },
  "language_info": {
   "codemirror_mode": {
    "name": "ipython",
    "version": 3
   },
   "file_extension": ".py",
   "mimetype": "text/x-python",
   "name": "python",
   "nbconvert_exporter": "python",
   "pygments_lexer": "ipython3",
   "version": "3.13.0"
  }
 },
 "nbformat": 4,
 "nbformat_minor": 2
}
